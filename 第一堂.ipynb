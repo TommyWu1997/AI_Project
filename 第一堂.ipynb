{
  "nbformat": 4,
  "nbformat_minor": 0,
  "metadata": {
    "colab": {
      "provenance": [],
      "authorship_tag": "ABX9TyMQUgY3YJ9JjP09XTEJb+C+",
      "include_colab_link": true
    },
    "kernelspec": {
      "name": "python3",
      "display_name": "Python 3"
    },
    "language_info": {
      "name": "python"
    }
  },
  "cells": [
    {
      "cell_type": "markdown",
      "metadata": {
        "id": "view-in-github",
        "colab_type": "text"
      },
      "source": [
        "<a href=\"https://colab.research.google.com/github/TommyWu1997/AI_Project/blob/main/%E7%AC%AC%E4%B8%80%E5%A0%82.ipynb\" target=\"_parent\"><img src=\"https://colab.research.google.com/assets/colab-badge.svg\" alt=\"Open In Colab\"/></a>"
      ]
    },
    {
      "cell_type": "code",
      "execution_count": 2,
      "metadata": {
        "id": "m3GoXn6_Itoh"
      },
      "outputs": [],
      "source": [
        "#MARKDOWN 語法\n",
        "#Latex Math 語法"
      ]
    },
    {
      "cell_type": "markdown",
      "source": [
        "#MARKDOWN 語法\n",
        "#Latex Math 語法\n",
        "$ Area = \\frac{1}{2+x} \\pi r^2 $"
      ],
      "metadata": {
        "id": "b8aTiKIrJVHc"
      }
    },
    {
      "cell_type": "code",
      "source": [],
      "metadata": {
        "id": "8uXB42l2JE8b"
      },
      "execution_count": null,
      "outputs": []
    },
    {
      "cell_type": "code",
      "source": [],
      "metadata": {
        "id": "1ZDigKk3I8Wf"
      },
      "execution_count": 2,
      "outputs": []
    }
  ]
}